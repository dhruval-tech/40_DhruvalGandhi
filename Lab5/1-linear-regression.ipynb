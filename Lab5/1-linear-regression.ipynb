{
  "nbformat": 4,
  "nbformat_minor": 0,
  "metadata": {
    "colab": {
      "name": "Copy of Welcome To Colaboratory",
      "provenance": [],
      "collapsed_sections": [],
      "toc_visible": true
    },
    "kernelspec": {
      "display_name": "Python 3",
      "name": "python3"
    }
  },
  "cells": [
    {
      "cell_type": "code",
      "metadata": {
        "id": "w08P_tJpk08e"
      },
      "source": [
        "import numpy as np\n",
        "import torch"
      ],
      "execution_count": null,
      "outputs": []
    },
    {
      "cell_type": "code",
      "metadata": {
        "id": "vrQstvNglDbk"
      },
      "source": [
        "A tensor is a number, vector, matrix or any n-dimensional array.\n",
        "\n",
        "Problem Statement\n",
        "We'll create a model that predicts crop yeilds for apples (target variable) by looking at the average temperature, rainfall and humidity (input variables or features) in different regions.\n",
        "\n",
        "Here's the training data:\n",
        "\n",
        "Temp\tRain\tHumidity\tPrediction\n",
        "73\t67\t43\t56\n",
        "91\t88\t64\t81\n",
        "87\t134\t58\t119\n",
        "102\t43\t37\t22\n",
        "69\t96\t70\t103\n",
        "In a linear regression model, each target variable is estimated to be a weighted sum of the input variables, offset by some constant, known as a bias :\n",
        "\n",
        "yeild_apple  = w11 * temp + w12 * rainfall + w13 * humidity + b1\n",
        "It means that the yield of apples is a linear or planar function of the temperature, rainfall & humidity.\n",
        "\n",
        "Our objective: Find a suitable set of weights and biases using the training data, to make accurate predictions.\n",
        "\n",
        "\n",
        "\n",
        "\n",
        "\n",
        "\n",
        "Training Data\n",
        "The training data can be represented using 2 matrices (inputs and targets), each with one row per observation and one column for variable."
      ],
      "execution_count": null,
      "outputs": []
    },
    {
      "cell_type": "code",
      "metadata": {
        "id": "vHdSTcMjmFQL"
      },
      "source": [
        "\n",
        "# Input (temp, rainfall, humidity)\n",
        "inputs = np.array([[73, 67, 43], \n",
        "                   [91, 88, 64], \n",
        "                   [87, 134, 58], \n",
        "                   [102, 43, 37], \n",
        "                   [69, 96, 70]], dtype='float32')\n",
        "\n",
        "# Target (apples)\n",
        "targets = np.array([[56], \n",
        "                    [81], \n",
        "                    [119], \n",
        "                    [22], \n",
        "                    [103]], dtype='float32')"
      ],
      "execution_count": null,
      "outputs": []
    },
    {
      "cell_type": "code",
      "metadata": {
        "id": "9jUL0moxmJYI"
      },
      "source": [
        "Before we build a model, we need to convert inputs and targets to PyTorch tensors.\n",
        "\n"
      ],
      "execution_count": null,
      "outputs": []
    },
    {
      "cell_type": "code",
      "metadata": {
        "id": "ZVyU1uyHmL_I",
        "colab": {
          "base_uri": "https://localhost:8080/"
        },
        "outputId": "582bcab4-709f-4f94-f438-8ef89a49c065"
      },
      "source": [
        "# Convert inputs and targets to tensors\n",
        "tensor_inputs = torch.tensor(inputs)\n",
        "print(\"tensor inputs:\\n\",tensor_inputs)\n",
        "\n",
        "tensor_targets = torch.tensor(targets)\n",
        "print(\"\\ntensor targets:\\n\",tensor_targets)"
      ],
      "execution_count": null,
      "outputs": [
        {
          "output_type": "stream",
          "name": "stdout",
          "text": [
            "tensor inputs:\n",
            " tensor([[ 73.,  67.,  43.],\n",
            "        [ 91.,  88.,  64.],\n",
            "        [ 87., 134.,  58.],\n",
            "        [102.,  43.,  37.],\n",
            "        [ 69.,  96.,  70.]])\n",
            "\n",
            "tensor targets:\n",
            " tensor([[ 56.],\n",
            "        [ 81.],\n",
            "        [119.],\n",
            "        [ 22.],\n",
            "        [103.]])\n"
          ]
        }
      ]
    },
    {
      "cell_type": "code",
      "metadata": {
        "id": "DjNnyZvjmTHf"
      },
      "source": [
        "Linear Regression Model (from scratch)\n",
        "The weights and biases can also be represented as matrices, initialized with random values. The first row of w and the first element of b are use to predict the first target variable i.e. yield for apples, and similarly the second for oranges."
      ],
      "execution_count": null,
      "outputs": []
    },
    {
      "cell_type": "code",
      "metadata": {
        "id": "PbNEoceumUS7",
        "colab": {
          "base_uri": "https://localhost:8080/"
        },
        "outputId": "94e1d983-992a-4838-d7ae-ff9e42fda318"
      },
      "source": [
        "# Weights and biases\n",
        "weights = torch.randn(1, 3, requires_grad=True)\n",
        "biases = torch.randn(1, requires_grad=True)\n",
        "weights_transpose = torch.transpose(weights, 0, 1)\n",
        "\n",
        "print(\"Weights:\\n\",weights)\n",
        "print(\"\\nBiases:\\n\",biases)\n",
        "print(\"\\nweights_transpose:\\n\",weights_transpose)"
      ],
      "execution_count": null,
      "outputs": [
        {
          "output_type": "stream",
          "name": "stdout",
          "text": [
            "Weights:\n",
            " tensor([[-0.4051, -0.0801,  1.0918]], requires_grad=True)\n",
            "\n",
            "Biases:\n",
            " tensor([0.9562], requires_grad=True)\n",
            "\n",
            "weights_transpose:\n",
            " tensor([[-0.4051],\n",
            "        [-0.0801],\n",
            "        [ 1.0918]], grad_fn=<TransposeBackward0>)\n"
          ]
        }
      ]
    },
    {
      "cell_type": "code",
      "metadata": {
        "id": "h5eVSvs5mYZl"
      },
      "source": [
        "\n",
        "\n",
        "The model is simply a function that performs a matrix multiplication of the input x and the weights w (transposed) and adds the bias b (replicated for each observation)."
      ],
      "execution_count": null,
      "outputs": []
    },
    {
      "cell_type": "code",
      "metadata": {
        "id": "CgaLVzDPmeo0"
      },
      "source": [
        "# Define the model\n",
        "def fit(X, W_t, b): \n",
        "    return (X @ W_t) + b"
      ],
      "execution_count": null,
      "outputs": []
    },
    {
      "cell_type": "code",
      "metadata": {
        "id": "18ZZhPoHmjNh"
      },
      "source": [
        "The matrix obtained by passing the input data to the model is a set of predictions for the target variables."
      ],
      "execution_count": null,
      "outputs": []
    },
    {
      "cell_type": "code",
      "metadata": {
        "id": "ox-R9zU-mjzh",
        "colab": {
          "base_uri": "https://localhost:8080/"
        },
        "outputId": "fab7c202-9481-4224-c0d9-f41f49cd9609"
      },
      "source": [
        "\n",
        "# Generate predictions\n",
        "prediction = fit(tensor_inputs, weights_transpose, biases)\n",
        "print(prediction)"
      ],
      "execution_count": null,
      "outputs": [
        {
          "output_type": "stream",
          "name": "stdout",
          "text": [
            "tensor([[12.9608],\n",
            "        [26.9137],\n",
            "        [18.2990],\n",
            "        [-3.4168],\n",
            "        [41.7369]], grad_fn=<AddBackward0>)\n"
          ]
        }
      ]
    },
    {
      "cell_type": "code",
      "metadata": {
        "id": "vm_TBGoommmO",
        "colab": {
          "base_uri": "https://localhost:8080/"
        },
        "outputId": "3f72bd0b-ed0d-44ea-9e44-3ab11e52efa5"
      },
      "source": [
        "# Compare with targets\n",
        "print(tensor_targets)\n"
      ],
      "execution_count": null,
      "outputs": [
        {
          "output_type": "stream",
          "name": "stdout",
          "text": [
            "tensor([[ 56.],\n",
            "        [ 81.],\n",
            "        [119.],\n",
            "        [ 22.],\n",
            "        [103.]])\n"
          ]
        }
      ]
    },
    {
      "cell_type": "code",
      "metadata": {
        "id": "iiK0zb50mpb2"
      },
      "source": [
        "Because we've started with random weights and biases, the model does not perform a good job of predicting the target varaibles."
      ],
      "execution_count": null,
      "outputs": []
    },
    {
      "cell_type": "code",
      "metadata": {
        "id": "Dd2GWfR8msBc"
      },
      "source": [
        "Loss Function\n",
        "We can compare the predictions with the actual targets, using the following method:\n",
        "\n",
        "Calculate the difference between the two matrices (preds and targets).\n",
        "Square all elements of the difference matrix to remove negative values.\n",
        "Calculate the average of the elements in the resulting matrix.\n",
        "The result is a single number, known as the mean squared error (MSE)."
      ],
      "execution_count": null,
      "outputs": []
    },
    {
      "cell_type": "code",
      "metadata": {
        "id": "ghSgSVXbmuRJ"
      },
      "source": [
        "# MSE loss\n",
        "# help(torch.numel)\n",
        "def mse_loss(pred, target):\n",
        "    temp = pred - target\n",
        "    return torch.sum(temp * temp) / temp.numel()"
      ],
      "execution_count": null,
      "outputs": []
    },
    {
      "cell_type": "code",
      "metadata": {
        "id": "bIxyLM-snC6t",
        "colab": {
          "base_uri": "https://localhost:8080/"
        },
        "outputId": "582bf5de-c5f6-4ee9-d0bc-e5f477d6b174"
      },
      "source": [
        "# Compute loss\n",
        "loss = mse_loss(prediction, tensor_targets)\n",
        "print(\"Loss: \", loss)\n"
      ],
      "execution_count": null,
      "outputs": [
        {
          "output_type": "stream",
          "name": "stdout",
          "text": [
            "Loss:  tensor(3863.5125, grad_fn=<DivBackward0>)\n"
          ]
        }
      ]
    },
    {
      "cell_type": "code",
      "metadata": {
        "id": "Ln8yrePTmzJ4"
      },
      "source": [
        "Loss:  tensor(1375.0640, grad_fn=<DivBackward0>)\n",
        "The resulting number is called the loss, because it indicates how bad the model is at predicting the target variables. Lower the loss, better the model.\n",
        "\n",
        "Compute Gradients\n",
        "With PyTorch, we can automatically compute the gradient or derivative of the loss w.r.t. to the weights and biases, because they have requires_grad set to True."
      ],
      "execution_count": null,
      "outputs": []
    },
    {
      "cell_type": "code",
      "metadata": {
        "id": "QwxKkguam1Cy"
      },
      "source": [
        "# Compute gradients\n",
        "loss.backward()"
      ],
      "execution_count": null,
      "outputs": []
    },
    {
      "cell_type": "code",
      "metadata": {
        "id": "v7cugxCbnHE5"
      },
      "source": [
        "The gradients are stored in the `.grad` property of the respective tensors."
      ],
      "execution_count": null,
      "outputs": []
    },
    {
      "cell_type": "code",
      "metadata": {
        "id": "vxr8I4QhnHxP",
        "colab": {
          "base_uri": "https://localhost:8080/"
        },
        "outputId": "120ab3ed-853d-4964-981d-b91266fa8ec9"
      },
      "source": [
        "# Gradients for weights\n",
        "print(weights, end=\"\\n-------------\\n\")\n",
        "print(weights.grad)"
      ],
      "execution_count": null,
      "outputs": [
        {
          "output_type": "stream",
          "name": "stdout",
          "text": [
            "tensor([[-0.4051, -0.0801,  1.0918]], requires_grad=True)\n",
            "-------------\n",
            "tensor([[ -9457.7451, -11244.5312,  -6552.6807]])\n"
          ]
        }
      ]
    },
    {
      "cell_type": "code",
      "metadata": {
        "id": "eiOuO1o5nKgp",
        "colab": {
          "base_uri": "https://localhost:8080/"
        },
        "outputId": "28e2168a-daab-4a88-ca28-60da5cf05955"
      },
      "source": [
        "# Gradients for bias\n",
        "print(biases, end=\"\\n-------------\\n\")\n",
        "print(biases.grad)"
      ],
      "execution_count": null,
      "outputs": [
        {
          "output_type": "stream",
          "name": "stdout",
          "text": [
            "tensor([0.9562], requires_grad=True)\n",
            "-------------\n",
            "tensor([-113.8025])\n"
          ]
        }
      ]
    },
    {
      "cell_type": "code",
      "metadata": {
        "id": "y9TIBgHOnQad"
      },
      "source": [
        "A key insight from calculus is that the gradient indicates the rate of change of the loss, or the slope of the loss function w.r.t. the weights and biases.\n",
        "\n",
        "If a gradient element is postive,\n",
        "increasing the element's value slightly will increase the loss.\n",
        "decreasing the element's value slightly will decrease the loss.\n",
        "If a gradient element is negative,\n",
        "increasing the element's value slightly will decrease the loss.\n",
        "decreasing the element's value slightly will increase the loss.\n",
        "\n",
        "The increase or decrease is proportional to the value of the gradient.\n",
        "\n",
        "\n",
        "Finally, we'll reset the gradients to zero before moving forward, because PyTorch accumulates gradients."
      ],
      "execution_count": null,
      "outputs": []
    },
    {
      "cell_type": "code",
      "metadata": {
        "id": "YkBYGE5unQlA",
        "colab": {
          "base_uri": "https://localhost:8080/"
        },
        "outputId": "8da70f7f-ae05-4a3a-9fb2-e1478471bd4a"
      },
      "source": [
        "# help(biases.grad.zero_)\n",
        "weights.grad.zero_()\n",
        "biases.grad.zero_()\n",
        "print(weights.grad,end=\"\\n-------\\n\")\n",
        "print(biases.grad)"
      ],
      "execution_count": null,
      "outputs": [
        {
          "output_type": "stream",
          "name": "stdout",
          "text": [
            "tensor([[0., 0., 0.]])\n",
            "-------\n",
            "tensor([0.])\n"
          ]
        }
      ]
    },
    {
      "cell_type": "code",
      "metadata": {
        "id": "pQLrquFpncxS"
      },
      "source": [
        "Adjust weights and biases using gradient descent\n",
        "​We'll reduce the loss and improve our model using the gradient descent algorithm, which has the following steps:​1. Generate predictions 2. Calculate the loss 3. Compute gradients w.r.t the weights and biases 4. Adjust the weights by subtracting a small quantity proportional to the gradient 5. Reset the gradients to zero"
      ],
      "execution_count": null,
      "outputs": []
    },
    {
      "cell_type": "code",
      "metadata": {
        "id": "u6In4wtInfTZ",
        "colab": {
          "base_uri": "https://localhost:8080/"
        },
        "outputId": "432567c2-4b2a-4d64-9dbd-d6a4074d128e"
      },
      "source": [
        "# Generate predictions\n",
        "prediction = fit(tensor_inputs, weights.t(), biases)\n",
        "print(prediction)"
      ],
      "execution_count": null,
      "outputs": [
        {
          "output_type": "stream",
          "name": "stdout",
          "text": [
            "tensor([[12.9608],\n",
            "        [26.9137],\n",
            "        [18.2990],\n",
            "        [-3.4168],\n",
            "        [41.7369]], grad_fn=<AddBackward0>)\n"
          ]
        }
      ]
    },
    {
      "cell_type": "code",
      "metadata": {
        "id": "k6oZlq1Xnh_F",
        "colab": {
          "base_uri": "https://localhost:8080/"
        },
        "outputId": "2d1b6cba-9152-4c80-c989-d8b4c66c2229"
      },
      "source": [
        "# Calculate the loss\n",
        "loss = mse_loss(prediction, tensor_targets)\n",
        "print(loss)"
      ],
      "execution_count": null,
      "outputs": [
        {
          "output_type": "stream",
          "name": "stdout",
          "text": [
            "tensor(3863.5125, grad_fn=<DivBackward0>)\n"
          ]
        }
      ]
    },
    {
      "cell_type": "code",
      "metadata": {
        "id": "PpAaX3cPnlqn"
      },
      "source": [
        "# Compute gradients\n",
        "loss.backward()"
      ],
      "execution_count": null,
      "outputs": []
    },
    {
      "cell_type": "code",
      "metadata": {
        "id": "QeWRvKngn-fk"
      },
      "source": [
        "\n",
        "# Adjust weights & reset gradients\n",
        "with torch.no_grad():\n",
        "    weights -= weights.grad * 1e-5\n",
        "    biases -= biases.grad * 1e-5\n",
        "    weights.grad.zero_()\n",
        "    biases.grad.zero_()"
      ],
      "execution_count": null,
      "outputs": []
    },
    {
      "cell_type": "code",
      "metadata": {
        "id": "KSqznd8joBqF",
        "colab": {
          "base_uri": "https://localhost:8080/"
        },
        "outputId": "04d64834-6541-4dc3-a882-82b87c233993"
      },
      "source": [
        "\n",
        "print(weights)"
      ],
      "execution_count": null,
      "outputs": [
        {
          "output_type": "stream",
          "name": "stdout",
          "text": [
            "tensor([[-0.3106,  0.0323,  1.1573]], requires_grad=True)\n"
          ]
        }
      ]
    },
    {
      "cell_type": "code",
      "metadata": {
        "id": "IrdSmWRBoE2x"
      },
      "source": [
        "With the new weights and biases, the model should have a lower loss."
      ],
      "execution_count": null,
      "outputs": []
    },
    {
      "cell_type": "code",
      "metadata": {
        "id": "JM0Hul1voFyC",
        "colab": {
          "base_uri": "https://localhost:8080/"
        },
        "outputId": "6b663156-d621-43ae-f19f-0b212e68257d"
      },
      "source": [
        "\n",
        "# Calculate loss\n",
        "prediction = fit(tensor_inputs, weights.t(), biases)\n",
        "loss = mse_loss(prediction, tensor_targets)\n",
        "print(loss)"
      ],
      "execution_count": null,
      "outputs": [
        {
          "output_type": "stream",
          "name": "stdout",
          "text": [
            "tensor(1737.7361, grad_fn=<DivBackward0>)\n"
          ]
        }
      ]
    },
    {
      "cell_type": "code",
      "metadata": {
        "id": "PAWOGGSYoLVa"
      },
      "source": [
        "Train for multiple epochs\n",
        "To reduce the loss further, we repeat the process of adjusting the weights and biases using the gradients multiple times. Each iteration is called an epoch."
      ],
      "execution_count": null,
      "outputs": []
    },
    {
      "cell_type": "code",
      "metadata": {
        "id": "jI3z1Jk4oP5L"
      },
      "source": [
        "# Train for 100 epochs\n",
        "for i in range(100):\n",
        "    prediction = fit(tensor_inputs, weights.t(), biases)\n",
        "    loss = mse_loss(prediction, tensor_targets)\n",
        "    loss.backward()\n",
        "    with torch.no_grad():\n",
        "        weights -= weights.grad * 1e-5\n",
        "        biases -= biases.grad * 1e-5\n",
        "        weights.grad.zero_()\n",
        "        biases.grad.zero_()"
      ],
      "execution_count": null,
      "outputs": []
    },
    {
      "cell_type": "code",
      "metadata": {
        "id": "TJVmtf5CoSnU",
        "colab": {
          "base_uri": "https://localhost:8080/"
        },
        "outputId": "f515967e-92b3-4085-ae19-5214e3b9c798"
      },
      "source": [
        "# Calculate loss\n",
        "prediction = fit(tensor_inputs, weights.t(), biases)\n",
        "loss = mse_loss(prediction, tensor_targets)\n",
        "print(loss)"
      ],
      "execution_count": null,
      "outputs": [
        {
          "output_type": "stream",
          "name": "stdout",
          "text": [
            "tensor(48.8205, grad_fn=<DivBackward0>)\n"
          ]
        }
      ]
    },
    {
      "cell_type": "code",
      "metadata": {
        "id": "Ef8dHnlHovOg",
        "colab": {
          "base_uri": "https://localhost:8080/"
        },
        "outputId": "bc9be872-2b18-41ef-95bc-31ab521b2fed"
      },
      "source": [
        "# Print predictions\n",
        "print(prediction)"
      ],
      "execution_count": null,
      "outputs": [
        {
          "output_type": "stream",
          "name": "stdout",
          "text": [
            "tensor([[ 58.1047],\n",
            "        [ 87.0573],\n",
            "        [106.1543],\n",
            "        [ 26.0372],\n",
            "        [107.6551]], grad_fn=<AddBackward0>)\n"
          ]
        }
      ]
    },
    {
      "cell_type": "code",
      "metadata": {
        "id": "btyD0pi9oyAw",
        "colab": {
          "base_uri": "https://localhost:8080/"
        },
        "outputId": "0d78c4de-22fa-444d-91d7-e34704c76e44"
      },
      "source": [
        "# Print targets\n",
        "print(tensor_targets)"
      ],
      "execution_count": null,
      "outputs": [
        {
          "output_type": "stream",
          "name": "stdout",
          "text": [
            "tensor([[ 56.],\n",
            "        [ 81.],\n",
            "        [119.],\n",
            "        [ 22.],\n",
            "        [103.]])\n"
          ]
        }
      ]
    }
  ]
}