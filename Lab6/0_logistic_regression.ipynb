{
  "nbformat": 4,
  "nbformat_minor": 0,
  "metadata": {
    "colab": {
      "name": "0_logistic_regression.ipynb",
      "provenance": []
    },
    "kernelspec": {
      "display_name": "Python 3",
      "language": "python",
      "name": "python3"
    },
    "language_info": {
      "codemirror_mode": {
        "name": "ipython",
        "version": 3
      },
      "file_extension": ".py",
      "mimetype": "text/x-python",
      "name": "python",
      "nbconvert_exporter": "python",
      "pygments_lexer": "ipython3",
      "version": "3.8.9"
    }
  },
  "cells": [
    {
      "cell_type": "code",
      "metadata": {
        "_cell_guid": "b1076dfc-b9ad-4769-8c92-a6c4dae69d19",
        "_uuid": "8f2839f25d086af736a60e9eeb907d3b93b6e0e5",
        "id": "hfV503AtcBDp"
      },
      "source": [
        "#Importing libraries\n",
        "import numpy as np \n",
        "import pandas as pd \n",
        "import io\n",
        "import matplotlib.pyplot as plt"
      ],
      "execution_count": 1,
      "outputs": []
    },
    {
      "cell_type": "code",
      "metadata": {
        "_cell_guid": "79c7e3d0-c299-4dcb-8224-4455121ee9b0",
        "_uuid": "d629ff2d2480ee46fbb7e2d37f6b5fab8052498a",
        "colab": {
          "base_uri": "https://localhost:8080/",
          "height": 203
        },
        "id": "Y4rK9ffYcBEP",
        "outputId": "54c0d751-647b-4442-fdee-fe0f8f145f21"
      },
      "source": [
        "url = 'https://raw.githubusercontent.com/dhruval-tech/40_DhruvalGandhi/main/Lab6/BuyComputer.csv?token=ANHDD7T6GQT6RYSJD6NA54DBHMOXC'\n",
        "data = pd.read_csv(url)\n",
        "\n",
        "data.drop(columns=['User ID',],axis=1,inplace=True)\n",
        "data.head()"
      ],
      "execution_count": 5,
      "outputs": [
        {
          "output_type": "execute_result",
          "data": {
            "text/html": [
              "<div>\n",
              "<style scoped>\n",
              "    .dataframe tbody tr th:only-of-type {\n",
              "        vertical-align: middle;\n",
              "    }\n",
              "\n",
              "    .dataframe tbody tr th {\n",
              "        vertical-align: top;\n",
              "    }\n",
              "\n",
              "    .dataframe thead th {\n",
              "        text-align: right;\n",
              "    }\n",
              "</style>\n",
              "<table border=\"1\" class=\"dataframe\">\n",
              "  <thead>\n",
              "    <tr style=\"text-align: right;\">\n",
              "      <th></th>\n",
              "      <th>Age</th>\n",
              "      <th>EstimatedSalary</th>\n",
              "      <th>Purchased</th>\n",
              "    </tr>\n",
              "  </thead>\n",
              "  <tbody>\n",
              "    <tr>\n",
              "      <th>0</th>\n",
              "      <td>19</td>\n",
              "      <td>19000</td>\n",
              "      <td>0</td>\n",
              "    </tr>\n",
              "    <tr>\n",
              "      <th>1</th>\n",
              "      <td>35</td>\n",
              "      <td>20000</td>\n",
              "      <td>0</td>\n",
              "    </tr>\n",
              "    <tr>\n",
              "      <th>2</th>\n",
              "      <td>26</td>\n",
              "      <td>43000</td>\n",
              "      <td>0</td>\n",
              "    </tr>\n",
              "    <tr>\n",
              "      <th>3</th>\n",
              "      <td>27</td>\n",
              "      <td>57000</td>\n",
              "      <td>0</td>\n",
              "    </tr>\n",
              "    <tr>\n",
              "      <th>4</th>\n",
              "      <td>19</td>\n",
              "      <td>76000</td>\n",
              "      <td>0</td>\n",
              "    </tr>\n",
              "  </tbody>\n",
              "</table>\n",
              "</div>"
            ],
            "text/plain": [
              "   Age  EstimatedSalary  Purchased\n",
              "0   19            19000          0\n",
              "1   35            20000          0\n",
              "2   26            43000          0\n",
              "3   27            57000          0\n",
              "4   19            76000          0"
            ]
          },
          "metadata": {},
          "execution_count": 5
        }
      ]
    },
    {
      "cell_type": "code",
      "metadata": {
        "_uuid": "4cb45e28344e7e245ab398e9f4f5272ef21d2129",
        "id": "jwuPgU6_cBE8"
      },
      "source": [
        "#Declare label as last column in the source file\n",
        "label = data.iloc[:,-1].values\n"
      ],
      "execution_count": 6,
      "outputs": []
    },
    {
      "cell_type": "code",
      "metadata": {
        "_uuid": "2e7a145fa49435ad9578ec2827f76a70cc99f2e1",
        "id": "2lhBrOp8cBFX"
      },
      "source": [
        "#Declaring X as all columns excluding last\n",
        "X = data.iloc[:,:-1].values"
      ],
      "execution_count": 7,
      "outputs": []
    },
    {
      "cell_type": "code",
      "metadata": {
        "_uuid": "dffb1f3e19e19964995ac827bf55108b5815ff67",
        "id": "t8nwbTn6cBFp"
      },
      "source": [
        "# Splitting data\n",
        "from sklearn.model_selection import train_test_split\n",
        "X_train, X_test, y_train, y_test = train_test_split(X, label, test_size = 0.30, random_state = 40)"
      ],
      "execution_count": 9,
      "outputs": []
    },
    {
      "cell_type": "code",
      "metadata": {
        "_uuid": "7d4ed14782e114ae3282f20d3754121398e6d232",
        "id": "U4bUiVVFcBGD"
      },
      "source": [
        "# Sacaling data\n",
        "from sklearn.preprocessing import StandardScaler\n",
        "sc = StandardScaler()\n",
        "X_train = sc.fit_transform(X_train)\n",
        "X_test = sc.transform(X_test)"
      ],
      "execution_count": 10,
      "outputs": []
    },
    {
      "cell_type": "code",
      "metadata": {
        "_uuid": "2ff7415e3e0e0673d59051cfe6154c63d3312a32",
        "colab": {
          "base_uri": "https://localhost:8080/"
        },
        "id": "W5yGgzqbcBGc",
        "outputId": "550702e8-b748-48b6-923c-378339cc638d"
      },
      "source": [
        "#Variabes to calculate sigmoid function\n",
        "y_pred = []\n",
        "len_x = len(X_train[0])\n",
        "w = []\n",
        "b = 0.2\n",
        "print(len_x)"
      ],
      "execution_count": 11,
      "outputs": [
        {
          "output_type": "stream",
          "name": "stdout",
          "text": [
            "2\n"
          ]
        }
      ]
    },
    {
      "cell_type": "code",
      "metadata": {
        "_uuid": "a228174207f4631be4f26a0cc05e379f3f58aa56",
        "colab": {
          "base_uri": "https://localhost:8080/"
        },
        "id": "ZbqwTM0bcBGr",
        "outputId": "1de61a4d-a02f-446e-9683-b278f5ee9a4e"
      },
      "source": [
        "entries = len(X_train[:,0])\n",
        "entries"
      ],
      "execution_count": 12,
      "outputs": [
        {
          "output_type": "execute_result",
          "data": {
            "text/plain": [
              "280"
            ]
          },
          "metadata": {},
          "execution_count": 12
        }
      ]
    },
    {
      "cell_type": "code",
      "metadata": {
        "_uuid": "5d4d6e47ee65c9c7404e60fcf8f05c11708546b3",
        "colab": {
          "base_uri": "https://localhost:8080/"
        },
        "id": "vEV7Nn73cBG7",
        "outputId": "63d2cddb-8ef6-43f1-a616-8fe2afd922b7"
      },
      "source": [
        "for weights in range(len_x):\n",
        "    w.append(0)\n",
        "w"
      ],
      "execution_count": 13,
      "outputs": [
        {
          "output_type": "execute_result",
          "data": {
            "text/plain": [
              "[0, 0]"
            ]
          },
          "metadata": {},
          "execution_count": 13
        }
      ]
    },
    {
      "cell_type": "code",
      "metadata": {
        "_uuid": "18dbd2196d72527a82d30ab88ed2aa8d10bd01ce",
        "id": "_fAtpylNcBHM"
      },
      "source": [
        "# Sigmoid function\n",
        "def sigmoid(z):\n",
        "  return (1 / (1 + np.exp(-z)))"
      ],
      "execution_count": 14,
      "outputs": []
    },
    {
      "cell_type": "code",
      "metadata": {
        "_uuid": "daa0f87fdbf98591cb9f51b8dc7157dc399ca827",
        "id": "kfchkScTcBHd"
      },
      "source": [
        "def predict(inputs):\n",
        "    z = np.dot(w,inputs) + b\n",
        "    temp = sigmoid(z)\n",
        "    return temp"
      ],
      "execution_count": 15,
      "outputs": []
    },
    {
      "cell_type": "code",
      "metadata": {
        "_uuid": "4126f842d072ccd40019cc283b767a014e2ee074",
        "id": "K2ryTgglcBHt"
      },
      "source": [
        "#Loss function\n",
        "def loss_func(y,a):\n",
        "    J = -(y * np.log(a) + (1-y) * np.log(1-a))\n",
        "    return J    "
      ],
      "execution_count": 16,
      "outputs": []
    },
    {
      "cell_type": "code",
      "metadata": {
        "_uuid": "fc0ceb65c69f4ee0c3f28e050744229dc90c621b",
        "id": "1KW3eDpmcBIA"
      },
      "source": [
        "dw = []\n",
        "db = 0\n",
        "J = 0\n",
        "alpha = 0.1\n",
        "for x in range(len_x):\n",
        "    dw.append(0)"
      ],
      "execution_count": 17,
      "outputs": []
    },
    {
      "cell_type": "code",
      "metadata": {
        "_uuid": "e4be38e9b500ae0c5a7134296a3055675c4fb2d8",
        "id": "ipqdFLP3cBIO"
      },
      "source": [
        "#Repeating the process 3000 times\n",
        "for iterations in range(3000):\n",
        "    for i in range(entries):\n",
        "        localx = X_train[i]\n",
        "        a = predict(localx)   \n",
        "        dz = a - y_train[i]\n",
        "        J += loss_func(y_train[i],a)\n",
        "\n",
        "        for j in range(len_x):\n",
        "            dw[j] = dw[j] + (localx[j] * dz)\n",
        "\n",
        "        db += dz\n",
        "    J = J / entries\n",
        "    db = db / entries\n",
        "\n",
        "    for x in range(len_x):\n",
        "        dw[x] = dw[x] / entries\n",
        "\n",
        "    for x in range(len_x):\n",
        "        w[x] = w[x] - (alpha * dw[x])\n",
        "    b = b - (alpha * db)         \n",
        "    J=0\n"
      ],
      "execution_count": 18,
      "outputs": []
    },
    {
      "cell_type": "code",
      "metadata": {
        "_uuid": "5479ccb6073ed1ea310ef7de01b2935fc3ec400e",
        "colab": {
          "base_uri": "https://localhost:8080/"
        },
        "id": "7Q585AdrcBIs",
        "outputId": "c165efd2-5be9-483a-c78c-d0c4f14df7a9"
      },
      "source": [
        "#Print weight\n",
        "w"
      ],
      "execution_count": 19,
      "outputs": [
        {
          "output_type": "execute_result",
          "data": {
            "text/plain": [
              "[2.4231215540864066, 1.3281422255838953]"
            ]
          },
          "metadata": {},
          "execution_count": 19
        }
      ]
    },
    {
      "cell_type": "code",
      "metadata": {
        "_uuid": "a939c247b8a092f74c9843975612daa85c423621",
        "colab": {
          "base_uri": "https://localhost:8080/"
        },
        "id": "rEiF-bNHcBJB",
        "outputId": "fe9dad3b-47da-4c25-ae2b-d6465563e29e"
      },
      "source": [
        "#print bias\n",
        "b"
      ],
      "execution_count": 20,
      "outputs": [
        {
          "output_type": "execute_result",
          "data": {
            "text/plain": [
              "-1.1467996909167593"
            ]
          },
          "metadata": {},
          "execution_count": 20
        }
      ]
    },
    {
      "cell_type": "code",
      "metadata": {
        "_uuid": "b7ae24169a21c7ac8ea0787f4a38a0de3e07a6b5",
        "id": "MPt5nUcpcBJR"
      },
      "source": [
        "#predicting the label\n",
        "for x in range(len(y_test)):\n",
        "    y_pred.append(predict(X_test[x]))"
      ],
      "execution_count": 21,
      "outputs": []
    },
    {
      "cell_type": "code",
      "metadata": {
        "_uuid": "967ad1b72305ad792a5d50e4d8b8a07632f7b241",
        "colab": {
          "base_uri": "https://localhost:8080/"
        },
        "id": "79HPPz7jcBJg",
        "scrolled": false,
        "outputId": "eca1f76a-2010-4ae6-f500-d44abccb99c4"
      },
      "source": [
        "#print actual and predicted values in a table\n",
        "print(\"Actual\\t\\tPredicted\")\n",
        "for x in range(len(y_pred)):\n",
        "    print(y_test[x] ,y_pred[x], sep=\"\\t\\t\")\n",
        "    if y_pred[x]>=0.5:\n",
        "        y_pred[x]=1\n",
        "    else:\n",
        "        y_pred[x]=0"
      ],
      "execution_count": 22,
      "outputs": [
        {
          "output_type": "stream",
          "name": "stdout",
          "text": [
            "Actual\t\tPredicted\n",
            "0\t\t0.08054388780359535\n",
            "1\t\t0.4210424567344006\n",
            "0\t\t0.4277118577078073\n",
            "0\t\t0.013494446082725002\n",
            "0\t\t0.2281636523296954\n",
            "0\t\t0.38999252539069834\n",
            "0\t\t0.6393007246792424\n",
            "0\t\t0.3873157825113452\n",
            "1\t\t0.9879832833436243\n",
            "1\t\t0.8243244907576436\n",
            "0\t\t0.31121220361300483\n",
            "1\t\t0.18739633868280342\n",
            "0\t\t0.14601853944534146\n",
            "1\t\t0.888411397144182\n",
            "0\t\t0.11232475029564466\n",
            "1\t\t0.358081148983125\n",
            "0\t\t0.006735329727385875\n",
            "0\t\t0.23468941838251117\n",
            "0\t\t0.10745107428677778\n",
            "1\t\t0.36067478838194195\n",
            "0\t\t0.372243860713258\n",
            "0\t\t0.0022192693523541774\n",
            "1\t\t0.94023456421188\n",
            "0\t\t0.10224617306399479\n",
            "0\t\t0.005421767857242195\n",
            "0\t\t0.0070113811449743005\n",
            "1\t\t0.4309320150099973\n",
            "0\t\t0.004384035207678211\n",
            "0\t\t0.38129993510951093\n",
            "1\t\t0.6613372396635692\n",
            "1\t\t0.2733063649784965\n",
            "0\t\t0.7511539060159439\n",
            "0\t\t0.014614785111281762\n",
            "0\t\t0.056018837320614454\n",
            "1\t\t0.9247185206011744\n",
            "0\t\t0.0037878761961294537\n",
            "0\t\t0.2281636523296954\n",
            "0\t\t0.0025547938716980034\n",
            "0\t\t0.006192052059252794\n",
            "1\t\t0.8192260351504072\n",
            "0\t\t0.003928880849733377\n",
            "1\t\t0.05799097158145229\n",
            "0\t\t0.029721514927717435\n",
            "0\t\t0.0015664937286089542\n",
            "0\t\t0.11847267154863567\n",
            "0\t\t0.06323526507097338\n",
            "0\t\t0.005130728715854649\n",
            "0\t\t0.0373072373935148\n",
            "1\t\t0.15927741307636767\n",
            "1\t\t0.8016157751332125\n",
            "0\t\t0.004615630729963973\n",
            "1\t\t0.30499186535785516\n",
            "0\t\t0.12357343450591646\n",
            "0\t\t0.012551649476884023\n",
            "0\t\t0.33612048894985674\n",
            "0\t\t0.2340156126756592\n",
            "0\t\t0.22015074119427605\n",
            "0\t\t0.13174285324689528\n",
            "1\t\t0.9879386182841013\n",
            "0\t\t0.007555273417902593\n",
            "0\t\t0.00811074447697254\n",
            "1\t\t0.9941889414128281\n",
            "0\t\t0.38999252539069834\n",
            "1\t\t0.4217479806383775\n",
            "0\t\t0.0010139729283098003\n",
            "0\t\t0.06748726389344568\n",
            "0\t\t0.17200880772810911\n",
            "0\t\t0.05291729293381319\n",
            "1\t\t0.28141254467155036\n",
            "0\t\t0.009664185317626018\n",
            "0\t\t0.0013378187033809424\n",
            "1\t\t0.6068508871800641\n",
            "0\t\t0.1504133419058143\n",
            "0\t\t0.0017550164693610627\n",
            "0\t\t0.13621755111108386\n",
            "1\t\t0.708169337327185\n",
            "0\t\t0.0011873584046213758\n",
            "1\t\t0.19114170644434295\n",
            "0\t\t0.014017632532017753\n",
            "0\t\t0.0009458401382281877\n",
            "1\t\t0.2677485219229803\n",
            "0\t\t0.05047468745304469\n",
            "0\t\t0.38085708533384455\n",
            "1\t\t0.8359907988104368\n",
            "1\t\t0.7619021455198656\n",
            "1\t\t0.9765961980199113\n",
            "0\t\t0.23367921403752703\n",
            "0\t\t0.38954593634841644\n",
            "0\t\t0.0004884502118073079\n",
            "1\t\t0.39312377759192085\n",
            "0\t\t0.979099897935228\n",
            "1\t\t0.7639397894353779\n",
            "0\t\t0.08124187976035684\n",
            "1\t\t0.952500764754727\n",
            "1\t\t0.19114170644434295\n",
            "1\t\t0.33905961976187815\n",
            "0\t\t0.03130649335236606\n",
            "0\t\t0.04184300973493198\n",
            "0\t\t0.029775709689701058\n",
            "1\t\t0.5655662734906014\n",
            "0\t\t0.006542898533074452\n",
            "1\t\t0.49892092084181566\n",
            "1\t\t0.9209020002232213\n",
            "1\t\t0.9815460444981893\n",
            "1\t\t0.18883014188070268\n",
            "0\t\t0.11102092146018623\n",
            "1\t\t0.6915755197374037\n",
            "1\t\t0.9904064226840151\n",
            "0\t\t0.04690336881638049\n",
            "0\t\t0.27876236441738855\n",
            "0\t\t0.04326121786107826\n",
            "0\t\t0.29414229181046225\n",
            "0\t\t0.0006155524156664208\n",
            "0\t\t0.0290499205276339\n",
            "0\t\t0.039209572692353735\n",
            "1\t\t0.4210424567344006\n",
            "0\t\t0.023272988381042446\n",
            "1\t\t0.5236049422408706\n",
            "1\t\t0.24777489060105315\n",
            "0\t\t0.019829126366859823\n"
          ]
        }
      ]
    },
    {
      "cell_type": "code",
      "metadata": {
        "_uuid": "a59807150900082ab876ef0200c6c7f8f93e098c",
        "colab": {
          "base_uri": "https://localhost:8080/"
        },
        "id": "sdZDj_iVcBJt",
        "outputId": "d6180464-b10c-4ae4-fe26-9cc7ea977535"
      },
      "source": [
        "# Calculating accuracy of prediction\n",
        "count = 0\n",
        "for x in range(len(y_pred)):\n",
        "    if(y_pred[x] == y_test[x]):\n",
        "        count += 1\n",
        "\n",
        "print('Accuracy:',(count / (len(y_pred))) * 100)"
      ],
      "execution_count": 23,
      "outputs": [
        {
          "output_type": "stream",
          "name": "stdout",
          "text": [
            "Accuracy: 80.83333333333333\n"
          ]
        }
      ]
    },
    {
      "cell_type": "markdown",
      "metadata": {
        "id": "x6nmajpzhAEn"
      },
      "source": [
        "## Using sklearn LogisticRegression model##"
      ]
    },
    {
      "cell_type": "code",
      "metadata": {
        "_kg_hide-output": true,
        "_uuid": "9aaade066015e04f20dd7eb1d37339be75ca3836",
        "colab": {
          "base_uri": "https://localhost:8080/"
        },
        "id": "iG-BK4i9cBKH",
        "outputId": "bbab2a68-21c8-46f7-d1f0-22e8602d6769"
      },
      "source": [
        "# Fitting Logistic Regression to the Training set\n",
        "from sklearn.linear_model import LogisticRegression\n",
        "LR = LogisticRegression(random_state = 40) # roll no 40\n",
        "#Fit\n",
        "LR.fit(X_train,y_train)\n",
        "\n",
        "#predicting the test label with LR. Predict always takes X as input\n",
        "y_predict = LR.predict(X_test)\n",
        "\n",
        "from sklearn.metrics import accuracy_score\n",
        "print('Accuracy:', accuracy_score(y_predict,y_test))\n"
      ],
      "execution_count": 25,
      "outputs": [
        {
          "output_type": "stream",
          "name": "stdout",
          "text": [
            "Accuracy: 0.8083333333333333\n"
          ]
        }
      ]
    },
    {
      "cell_type": "markdown",
      "metadata": {
        "id": "Y8sYVBu-iSW-"
      },
      "source": [
        "**Exercise:**\n",
        "\n",
        "Try logistic regression on BuyComputer dataset and set Random state=Your_RollNumber (last 3 digit of ID, incase if you don't have ID)"
      ]
    },
    {
      "cell_type": "code",
      "metadata": {
        "id": "Ezhxv3jU15DI"
      },
      "source": [
        ""
      ],
      "execution_count": null,
      "outputs": []
    }
  ]
}